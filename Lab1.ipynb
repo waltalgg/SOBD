{
 "cells": [
  {
   "cell_type": "markdown",
   "id": "d26a50da-b486-4e71-b570-2c200ed2bf3d",
   "metadata": {},
   "source": [
    "## Лабораторная работа №1 по системам обработки больших данных"
   ]
  },
  {
   "cell_type": "markdown",
   "id": "6265f91e-dc77-4fae-92f5-765a22e37f4a",
   "metadata": {},
   "source": [
    "### Импортирование модулей"
   ]
  },
  {
   "cell_type": "code",
   "execution_count": 1,
   "id": "03f71e0e-5ba8-46a6-8ff7-d1d5c2e61f27",
   "metadata": {},
   "outputs": [],
   "source": [
    "# Import other modules not related to PySpark\n",
    "import os\n",
    "import sys\n",
    "import pandas as pd\n",
    "from pandas import DataFrame\n",
    "import numpy as np\n",
    "import matplotlib.pyplot as plt\n",
    "import matplotlib.ticker as mtick\n",
    "import matplotlib\n",
    "from mpl_toolkits.mplot3d import Axes3D\n",
    "import math\n",
    "from IPython.core.interactiveshell import InteractiveShell\n",
    "from datetime import *\n",
    "import statistics as stats\n",
    "# This helps auto print out the items without explixitly using 'print'\n",
    "InteractiveShell.ast_node_interactivity = \"all\" \n",
    "%matplotlib inline"
   ]
  },
  {
   "cell_type": "code",
   "execution_count": 2,
   "id": "c310f8b0-d3b2-4c67-910e-ffea138a4c9c",
   "metadata": {},
   "outputs": [
    {
     "name": "stdout",
     "output_type": "stream",
     "text": [
      "Data frame type: <class 'pyspark.sql.dataframe.DataFrame'>\n"
     ]
    }
   ],
   "source": [
    "# Import PySpark related modules\n",
    "import pyspark\n",
    "from pyspark.rdd import RDD\n",
    "from pyspark.sql import Row\n",
    "from pyspark.sql import DataFrame\n",
    "from pyspark.sql import SparkSession\n",
    "from pyspark.sql import SQLContext\n",
    "from pyspark.sql.functions import lit, desc, col, size, array_contains\\\n",
    ", isnan, udf, hour, array_min, array_max, countDistinct\n",
    "from pyspark.sql.types import *\n",
    "from functools import reduce\n",
    "from pyspark.sql import functions \n",
    "from pyspark.sql.types import *\n",
    "\n",
    "MAX_MEMORY = '4G'\n",
    "# Initialize a spark session.\n",
    "conf = pyspark.SparkConf().setMaster(\"local[*]\") \\\n",
    "        .set('spark.executor.heartbeatInterval', 10000) \\\n",
    "        .set('spark.network.timeout', 10000) \\\n",
    "        .set(\"spark.core.connection.ack.wait.timeout\", \"3600\") \\\n",
    "        .set(\"spark.executor.memory\", MAX_MEMORY) \\\n",
    "        .set(\"spark.driver.memory\", MAX_MEMORY)\n",
    "def init_spark():\n",
    "    spark = SparkSession \\\n",
    "        .builder \\\n",
    "        .appName(\"Lab1\") \\\n",
    "        .config(conf=conf) \\\n",
    "        .getOrCreate()\n",
    "    return spark\n",
    "\n",
    "spark = init_spark()\n",
    "\n",
    "filename_data = 'data/the-reddit-covid-dataset-comments.csv'\n",
    "df = spark.read.csv(filename_data, mode=\"DROPMALFORMED\")\n",
    "\n",
    "filename_data = 'data/the-reddit-covid-dataset-comments.csv'\n",
    "# Load the main data set into pyspark data frame \n",
    "df = spark.read.csv(filename_data, mode=\"DROPMALFORMED\")\n",
    "print('Data frame type: ' + str(type(df)))"
   ]
  },
  {
   "cell_type": "code",
   "execution_count": 3,
   "id": "eee9b5fe-6b16-4e83-a90c-9033daaf88fe",
   "metadata": {},
   "outputs": [
    {
     "name": "stdout",
     "output_type": "stream",
     "text": [
      "Data overview\n",
      "root\n",
      " |-- _c0: string (nullable = true)\n",
      " |-- _c1: string (nullable = true)\n",
      " |-- _c2: string (nullable = true)\n",
      " |-- _c3: string (nullable = true)\n",
      " |-- _c4: string (nullable = true)\n",
      " |-- _c5: string (nullable = true)\n",
      " |-- _c6: string (nullable = true)\n",
      " |-- _c7: string (nullable = true)\n",
      " |-- _c8: string (nullable = true)\n",
      " |-- _c9: string (nullable = true)\n",
      "\n",
      "Columns overview\n"
     ]
    },
    {
     "data": {
      "text/html": [
       "<div>\n",
       "<style scoped>\n",
       "    .dataframe tbody tr th:only-of-type {\n",
       "        vertical-align: middle;\n",
       "    }\n",
       "\n",
       "    .dataframe tbody tr th {\n",
       "        vertical-align: top;\n",
       "    }\n",
       "\n",
       "    .dataframe thead th {\n",
       "        text-align: right;\n",
       "    }\n",
       "</style>\n",
       "<table border=\"1\" class=\"dataframe\">\n",
       "  <thead>\n",
       "    <tr style=\"text-align: right;\">\n",
       "      <th></th>\n",
       "      <th>Column Name</th>\n",
       "      <th>Data type</th>\n",
       "    </tr>\n",
       "  </thead>\n",
       "  <tbody>\n",
       "    <tr>\n",
       "      <th>0</th>\n",
       "      <td>_c0</td>\n",
       "      <td>string</td>\n",
       "    </tr>\n",
       "    <tr>\n",
       "      <th>1</th>\n",
       "      <td>_c1</td>\n",
       "      <td>string</td>\n",
       "    </tr>\n",
       "    <tr>\n",
       "      <th>2</th>\n",
       "      <td>_c2</td>\n",
       "      <td>string</td>\n",
       "    </tr>\n",
       "    <tr>\n",
       "      <th>3</th>\n",
       "      <td>_c3</td>\n",
       "      <td>string</td>\n",
       "    </tr>\n",
       "    <tr>\n",
       "      <th>4</th>\n",
       "      <td>_c4</td>\n",
       "      <td>string</td>\n",
       "    </tr>\n",
       "    <tr>\n",
       "      <th>5</th>\n",
       "      <td>_c5</td>\n",
       "      <td>string</td>\n",
       "    </tr>\n",
       "    <tr>\n",
       "      <th>6</th>\n",
       "      <td>_c6</td>\n",
       "      <td>string</td>\n",
       "    </tr>\n",
       "    <tr>\n",
       "      <th>7</th>\n",
       "      <td>_c7</td>\n",
       "      <td>string</td>\n",
       "    </tr>\n",
       "    <tr>\n",
       "      <th>8</th>\n",
       "      <td>_c8</td>\n",
       "      <td>string</td>\n",
       "    </tr>\n",
       "    <tr>\n",
       "      <th>9</th>\n",
       "      <td>_c9</td>\n",
       "      <td>string</td>\n",
       "    </tr>\n",
       "  </tbody>\n",
       "</table>\n",
       "</div>"
      ],
      "text/plain": [
       "  Column Name Data type\n",
       "0         _c0    string\n",
       "1         _c1    string\n",
       "2         _c2    string\n",
       "3         _c3    string\n",
       "4         _c4    string\n",
       "5         _c5    string\n",
       "6         _c6    string\n",
       "7         _c7    string\n",
       "8         _c8    string\n",
       "9         _c9    string"
      ]
     },
     "execution_count": 3,
     "metadata": {},
     "output_type": "execute_result"
    }
   ],
   "source": [
    "print('Data overview')\n",
    "df.printSchema()\n",
    "print('Columns overview')\n",
    "pd.DataFrame(df.dtypes, columns = ['Column Name','Data type'])"
   ]
  },
  {
   "cell_type": "code",
   "execution_count": 4,
   "id": "87dae5d1-1c8f-4237-a67a-a2ba256153a9",
   "metadata": {},
   "outputs": [
    {
     "name": "stdout",
     "output_type": "stream",
     "text": [
      "root\n",
      " |-- type: string (nullable = true)\n",
      " |-- id: string (nullable = true)\n",
      " |-- subreddit_id: string (nullable = true)\n",
      " |-- subreddit_name: string (nullable = true)\n",
      " |-- subreddit_nsfw: boolean (nullable = true)\n",
      " |-- created_utc: string (nullable = true)\n",
      " |-- permalink: string (nullable = true)\n",
      " |-- body: string (nullable = true)\n",
      " |-- sentiment: float (nullable = true)\n",
      " |-- score: integer (nullable = true)\n",
      "\n",
      "+-------+-------+------------+--------------------+--------------+-----------+--------------------+--------------------+---------+-----+\n",
      "|   type|     id|subreddit_id|      subreddit_name|subreddit_nsfw|created_utc|           permalink|                body|sentiment|score|\n",
      "+-------+-------+------------+--------------------+--------------+-----------+--------------------+--------------------+---------+-----+\n",
      "|   type|     id|subreddit.id|      subreddit.name|          NULL|created_utc|           permalink|                body|     NULL| NULL|\n",
      "|comment|hi1vsag|       2riyy|                nova|         false| 1635206399|https://old.reddi...|When you schedule...|      0.0|    2|\n",
      "|comment|hi1vs0l|       2qsf3|             ontario|         false| 1635206395|https://old.reddi...|Compare BC to Ont...|      0.0|   -2|\n",
      "|comment|hi1vrtk|       2qh0f|       entertainment|         false| 1635206393|https://old.reddi...|\"Sheeran didn't m...|     NULL| NULL|\n",
      "|comment|hi1vrnr|      2iokxd|  lockdownskepticism|         false| 1635206391|https://old.reddi...|And think about h...|  -0.8413|   29|\n",
      "|comment|hi1vrou|       384mz|         antivaxxers|         false| 1635206391|https://old.reddi...|I don’t know anyo...|  -0.9191|    1|\n",
      "|comment|hi1vrg2|       2qh4r|          conspiracy|         false| 1635206388|https://old.reddi...|BS. Not a fear ca...|  -0.9625|    1|\n",
      "|comment|hi1vre5|       2s5sb|      torontoraptors|         false| 1635206387|https://old.reddi...|Idk if they have ...|  -0.0516|    3|\n",
      "|comment|hi1vqy4|       2tasy|personalfinanceca...|         false| 1635206381|https://old.reddi...|I got some crappy...|   0.6604|    2|\n",
      "|comment|hi1vqh5|       2qhpn|             economy|         false| 1635206375|https://old.reddi...|Pretty sure the e...|   0.6705|    1|\n",
      "|comment|hi1vq9t|       hq6n1|         redscarepod|         false| 1635206372|https://old.reddi...|Lol it’s kinda fu...|   0.4417|    6|\n",
      "|comment|hi1vq39|       2qiog|               korea|         false| 1635206370|https://old.reddi...|It's racist in th...|  -0.8481|    9|\n",
      "|comment|hi1vput|       2qxon|             alberta|         false| 1635206367|https://old.reddi...|When it comes to ...|   0.4215|    0|\n",
      "|comment|hi1vpm3|       2u06v|       beyondthebump|         false| 1635206364|https://old.reddi...|Any other kids I ...|   0.6331|    1|\n",
      "|comment|hi1voeb|       2zmfe|           dankmemes|         false| 1635206348|https://old.reddi...|\"We KNOW it happe...|  -0.0084|    4|\n",
      "|comment|hi1vocw|       2ss5b|      subredditdrama|         false| 1635206347|https://old.reddi...|\"As an Australian...|  -0.6956|    6|\n",
      "|comment|hi1vnrr|      4snhgc|   simplychristina87|         false| 1635206340|https://old.reddi...|She does not care...|   0.6232|    1|\n",
      "|comment|hi1vnly|       2s581|         bakersfield|         false| 1635206338|https://old.reddi...|Are they in denia...|      0.0|    1|\n",
      "|comment|hi1vmwh|       2rj35|                ak47|         false| 1635206329|https://old.reddi...|5K rounds doesn't...|   0.6705|    3|\n",
      "|comment|hi1vmuy|       2u06v|       beyondthebump|         false| 1635206328|https://old.reddi...|Mine allowed unti...|  -0.5994|    1|\n",
      "+-------+-------+------------+--------------------+--------------+-----------+--------------------+--------------------+---------+-----+\n",
      "only showing top 20 rows\n",
      "\n"
     ]
    }
   ],
   "source": [
    "new_column_names = {\n",
    "    \"_c0\": \"type\",\n",
    "    \"_c1\": \"id\",\n",
    "    \"_c2\": \"subreddit_id\",\n",
    "    \"_c3\": \"subreddit_name\",\n",
    "    \"_c4\": \"subreddit_nsfw\",\n",
    "    \"_c5\": \"created_utc\",\n",
    "    \"_c6\": \"permalink\",\n",
    "    \"_c7\": \"body\",\n",
    "    \"_c8\": \"sentiment\",\n",
    "    \"_c9\": \"score\",\n",
    "}\n",
    "\n",
    "for c, new_c in new_column_names.items():\n",
    "    df = df.withColumnRenamed(c, new_c)\n",
    "\n",
    "df = df.withColumn(\"subreddit_nsfw\", col(\"subreddit_nsfw\").cast(BooleanType()))\n",
    "df = df.withColumn(\"sentiment\", col(\"sentiment\").cast(FloatType()))\n",
    "df = df.withColumn(\"score\", col(\"score\").cast(IntegerType()))\n",
    "\n",
    "df.printSchema()\n",
    "df.show()"
   ]
  },
  {
   "cell_type": "code",
   "execution_count": 5,
   "id": "3f3f82c9-0046-4e2f-a5dd-355ff89327a8",
   "metadata": {},
   "outputs": [
    {
     "data": {
      "text/plain": [
       "50909730"
      ]
     },
     "execution_count": 5,
     "metadata": {},
     "output_type": "execute_result"
    }
   ],
   "source": [
    "df.count()"
   ]
  },
  {
   "cell_type": "code",
   "execution_count": 6,
   "id": "b6ca85f2-3944-4f2d-ad1a-527fe3b8ddf4",
   "metadata": {},
   "outputs": [],
   "source": [
    "df = df.filter(reduce(lambda x, y: x & col(y).isNotNull(), df.columns, lit(True)))"
   ]
  },
  {
   "cell_type": "code",
   "execution_count": 7,
   "id": "ab5c2e30-5d58-499b-bb83-3794a858bb65",
   "metadata": {},
   "outputs": [],
   "source": [
    "quantiles = df.approxQuantile(\"score\", [0.25, 0.75], 0)\n",
    "IQR = quantiles[1] - quantiles[0]\n",
    "lower_bound = quantiles[0] - 1.5 * IQR\n",
    "upper_bound = quantiles[1] + 1.5 * IQR\n",
    "df = df.filter(col(\"score\").between(lower_bound, upper_bound))\n"
   ]
  },
  {
   "cell_type": "code",
   "execution_count": 8,
   "id": "0186f9e9-68eb-4f45-b924-9f9dfcf4b6c8",
   "metadata": {},
   "outputs": [
    {
     "data": {
      "text/plain": [
       "7246389"
      ]
     },
     "execution_count": 8,
     "metadata": {},
     "output_type": "execute_result"
    }
   ],
   "source": [
    "df.count()"
   ]
  },
  {
   "cell_type": "code",
   "execution_count": 9,
   "id": "34c79d1c-b32f-4cea-aaab-9e68eca87bb2",
   "metadata": {},
   "outputs": [
    {
     "data": {
      "text/plain": [
       "<Figure size 640x480 with 0 Axes>"
      ]
     },
     "execution_count": 9,
     "metadata": {},
     "output_type": "execute_result"
    },
    {
     "data": {
      "text/plain": [
       "{'whiskers': [<matplotlib.lines.Line2D at 0x7feb4cb8fed0>,\n",
       "  <matplotlib.lines.Line2D at 0x7feb4b9ecb90>],\n",
       " 'caps': [<matplotlib.lines.Line2D at 0x7feb4b9ed710>,\n",
       "  <matplotlib.lines.Line2D at 0x7feb4b9ee5d0>],\n",
       " 'boxes': [<matplotlib.lines.Line2D at 0x7feb4cb8ee50>],\n",
       " 'medians': [<matplotlib.lines.Line2D at 0x7feb4b9ef090>],\n",
       " 'fliers': [<matplotlib.lines.Line2D at 0x7feb4b9efd50>],\n",
       " 'means': []}"
      ]
     },
     "execution_count": 9,
     "metadata": {},
     "output_type": "execute_result"
    },
    {
     "data": {
      "text/plain": [
       "Text(0.5, 1.0, 'Score')"
      ]
     },
     "execution_count": 9,
     "metadata": {},
     "output_type": "execute_result"
    },
    {
     "data": {
      "text/plain": [
       "Text(0, 0.5, 'Values')"
      ]
     },
     "execution_count": 9,
     "metadata": {},
     "output_type": "execute_result"
    },
    {
     "data": {
      "image/png": "[encoded data removed]",
      "text/plain": [
       "<Figure size 640x480 with 1 Axes>"
      ]
     },
     "metadata": {},
     "output_type": "display_data"
    }
   ],
   "source": [
    "score_df = df.select(\"score\")\n",
    "pd_score_df = score_df.toPandas()\n",
    "plt.figure()\n",
    "plt.boxplot(pd_score_df['score'])\n",
    "plt.title('Score')\n",
    "plt.ylabel('Values')\n",
    "plt.show()"
   ]
  },
  {
   "cell_type": "code",
   "execution_count": 10,
   "id": "d02e4cd9-bdee-4544-a0ba-bb2470ffeff3",
   "metadata": {},
   "outputs": [
    {
     "name": "stdout",
     "output_type": "stream",
     "text": [
      "+-------+-------+------------+--------------------+--------------+-----------+--------------------+--------------------+---------+-----+\n",
      "|   type|     id|subreddit_id|      subreddit_name|subreddit_nsfw|created_utc|           permalink|                body|sentiment|score|\n",
      "+-------+-------+------------+--------------------+--------------+-----------+--------------------+--------------------+---------+-----+\n",
      "|comment|hi1vsag|       2riyy|                nova|         false| 1635206399|https://old.reddi...|When you schedule...|      0.0|    2|\n",
      "|comment|hi1vs0l|       2qsf3|             ontario|         false| 1635206395|https://old.reddi...|Compare BC to Ont...|      0.0|   -2|\n",
      "|comment|hi1vrou|       384mz|         antivaxxers|         false| 1635206391|https://old.reddi...|I don’t know anyo...|  -0.9191|    1|\n",
      "|comment|hi1vrg2|       2qh4r|          conspiracy|         false| 1635206388|https://old.reddi...|BS. Not a fear ca...|  -0.9625|    1|\n",
      "|comment|hi1vre5|       2s5sb|      torontoraptors|         false| 1635206387|https://old.reddi...|Idk if they have ...|  -0.0516|    3|\n",
      "|comment|hi1vqy4|       2tasy|personalfinanceca...|         false| 1635206381|https://old.reddi...|I got some crappy...|   0.6604|    2|\n",
      "|comment|hi1vqh5|       2qhpn|             economy|         false| 1635206375|https://old.reddi...|Pretty sure the e...|   0.6705|    1|\n",
      "|comment|hi1vq9t|       hq6n1|         redscarepod|         false| 1635206372|https://old.reddi...|Lol it’s kinda fu...|   0.4417|    6|\n",
      "|comment|hi1vq39|       2qiog|               korea|         false| 1635206370|https://old.reddi...|It's racist in th...|  -0.8481|    9|\n",
      "|comment|hi1vput|       2qxon|             alberta|         false| 1635206367|https://old.reddi...|When it comes to ...|   0.4215|    0|\n",
      "|comment|hi1vpm3|       2u06v|       beyondthebump|         false| 1635206364|https://old.reddi...|Any other kids I ...|   0.6331|    1|\n",
      "|comment|hi1voeb|       2zmfe|           dankmemes|         false| 1635206348|https://old.reddi...|\"We KNOW it happe...|  -0.0084|    4|\n",
      "|comment|hi1vocw|       2ss5b|      subredditdrama|         false| 1635206347|https://old.reddi...|\"As an Australian...|  -0.6956|    6|\n",
      "|comment|hi1vnrr|      4snhgc|   simplychristina87|         false| 1635206340|https://old.reddi...|She does not care...|   0.6232|    1|\n",
      "|comment|hi1vnly|       2s581|         bakersfield|         false| 1635206338|https://old.reddi...|Are they in denia...|      0.0|    1|\n",
      "|comment|hi1vmwh|       2rj35|                ak47|         false| 1635206329|https://old.reddi...|5K rounds doesn't...|   0.6705|    3|\n",
      "|comment|hi1vmuy|       2u06v|       beyondthebump|         false| 1635206328|https://old.reddi...|Mine allowed unti...|  -0.5994|    1|\n",
      "|comment|hi1vksd|       2yrq6|      publicfreakout|         false| 1635206299|https://old.reddi...|The dude with the...|  -0.5994|    2|\n",
      "|comment|hi1vk7n|       2scjv|               delta|         false| 1635206291|https://old.reddi...|This happened to ...|  -0.1779|    2|\n",
      "|comment|hi1vjyo|       2y77d|            antiwork|         false| 1635206288|https://old.reddi...|Can I come love w...|   0.8176|   11|\n",
      "+-------+-------+------------+--------------------+--------------+-----------+--------------------+--------------------+---------+-----+\n",
      "only showing top 20 rows\n",
      "\n"
     ]
    }
   ],
   "source": [
    "df.show(20)"
   ]
  },
  {
   "cell_type": "code",
   "execution_count": 16,
   "id": "33b46680-6215-4e06-922e-cd0d9b16f451",
   "metadata": {},
   "outputs": [
    {
     "name": "stdout",
     "output_type": "stream",
     "text": [
      "Median score: 2.0\n",
      "+-------+------------------+\n",
      "|summary|             score|\n",
      "+-------+------------------+\n",
      "|  count|           7246389|\n",
      "|   mean|2.7436935831073934|\n",
      "| stddev| 3.094239621525104|\n",
      "|    min|                -6|\n",
      "|    max|                13|\n",
      "+-------+------------------+\n",
      "\n"
     ]
    }
   ],
   "source": [
    "quantiles = df.approxQuantile(\"score\", [0.5], 0.05)\n",
    "median_score = quantiles[0]\n",
    "print(\"Median score:\", median_score)\n",
    "df.select('score').describe().show()"
   ]
  },
  {
   "cell_type": "markdown",
   "id": "fabdd496-ebf9-4c30-93d6-fbe6463c105a",
   "metadata": {},
   "source": [
    "**count** - Количество строк\\\n",
    "**mean** - Среднее значение\\\n",
    "**stddev** - Стандартное отклонение\\\n",
    "**min** - Минимальное значение\\\n",
    "**max** - Максимальное значение"
   ]
  },
  {
   "cell_type": "code",
   "execution_count": null,
   "id": "f3ee4607-2d17-46e8-a181-f279d5e382b1",
   "metadata": {},
   "outputs": [],
   "source": []
  }
 ],
 "metadata": {
  "kernelspec": {
   "display_name": "Python 3 (ipykernel)",
   "language": "python",
   "name": "python3"
  },
  "language_info": {
   "codemirror_mode": {
    "name": "ipython",
    "version": 3
   },
   "file_extension": ".py",
   "mimetype": "text/x-python",
   "name": "python",
   "nbconvert_exporter": "python",
   "pygments_lexer": "ipython3",
   "version": "3.11.6"
  }
 },
 "nbformat": 4,
 "nbformat_minor": 5
}
