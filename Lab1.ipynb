{
 "cells": [
  {
   "cell_type": "markdown",
   "id": "d26a50da-b486-4e71-b570-2c200ed2bf3d",
   "metadata": {},
   "source": [
    "## Лабораторная работа №1 по системам обработки больших данных"
   ]
  },
  {
   "cell_type": "markdown",
   "id": "6265f91e-dc77-4fae-92f5-765a22e37f4a",
   "metadata": {},
   "source": [
    "### Импортирование модулей"
   ]
  },
  {
   "cell_type": "code",
   "execution_count": 1,
   "id": "03f71e0e-5ba8-46a6-8ff7-d1d5c2e61f27",
   "metadata": {},
   "outputs": [],
   "source": [
    "# Import other modules not related to PySpark\n",
    "import os\n",
    "import sys\n",
    "import pandas as pd\n",
    "from pandas import DataFrame\n",
    "import numpy as np\n",
    "import matplotlib.pyplot as plt\n",
    "import matplotlib.ticker as mtick\n",
    "import matplotlib\n",
    "from mpl_toolkits.mplot3d import Axes3D\n",
    "import math\n",
    "from IPython.core.interactiveshell import InteractiveShell\n",
    "from datetime import *\n",
    "import statistics as stats\n",
    "# This helps auto print out the items without explixitly using 'print'\n",
    "InteractiveShell.ast_node_interactivity = \"all\" \n",
    "%matplotlib inline"
   ]
  },
  {
   "cell_type": "code",
   "execution_count": 2,
   "id": "c310f8b0-d3b2-4c67-910e-ffea138a4c9c",
   "metadata": {},
   "outputs": [
    {
     "name": "stdout",
     "output_type": "stream",
     "text": [
      "Data frame type: <class 'pyspark.sql.dataframe.DataFrame'>\n"
     ]
    }
   ],
   "source": [
    "# Import PySpark related modules\n",
    "import pyspark\n",
    "from pyspark.rdd import RDD\n",
    "from pyspark.sql import Row\n",
    "from pyspark.sql import DataFrame\n",
    "from pyspark.sql import SparkSession\n",
    "from pyspark.sql import SQLContext\n",
    "from pyspark.sql.functions import lit, desc, col, size, array_contains\\\n",
    ", isnan, udf, hour, array_min, array_max, countDistinct\n",
    "from pyspark.sql.types import *\n",
    "from functools import reduce\n",
    "from pyspark.sql import functions \n",
    "from pyspark.sql.types import *\n",
    "from pyspark.sql.functions import length, mean, split, udf, col\n",
    "from pyspark.sql import functions as F\n",
    "\n",
    "\n",
    "MAX_MEMORY = '8G'\n",
    "# Initialize a spark session.\n",
    "conf = pyspark.SparkConf().setMaster(\"local[*]\") \\\n",
    "        .set('spark.executor.heartbeatInterval', 10000) \\\n",
    "        .set('spark.network.timeout', 10000) \\\n",
    "        .set(\"spark.core.connection.ack.wait.timeout\", \"3600\") \\\n",
    "        .set(\"spark.executor.memory\", MAX_MEMORY) \\\n",
    "        .set(\"spark.driver.memory\", MAX_MEMORY)\n",
    "def init_spark():\n",
    "    spark = SparkSession \\\n",
    "        .builder \\\n",
    "        .appName(\"Lab1\") \\\n",
    "        .config(conf=conf) \\\n",
    "        .getOrCreate()\n",
    "    return spark\n",
    "\n",
    "spark = init_spark()\n",
    "\n",
    "filename_data = 'data/the-reddit-covid-dataset-comments.csv'\n",
    "df = spark.read.csv(filename_data, mode=\"DROPMALFORMED\")\n",
    "print('Data frame type: ' + str(type(df)))"
   ]
  },
  {
   "cell_type": "code",
   "execution_count": 3,
   "id": "eee9b5fe-6b16-4e83-a90c-9033daaf88fe",
   "metadata": {},
   "outputs": [
    {
     "name": "stdout",
     "output_type": "stream",
     "text": [
      "Data overview\n",
      "root\n",
      " |-- _c0: string (nullable = true)\n",
      " |-- _c1: string (nullable = true)\n",
      " |-- _c2: string (nullable = true)\n",
      " |-- _c3: string (nullable = true)\n",
      " |-- _c4: string (nullable = true)\n",
      " |-- _c5: string (nullable = true)\n",
      " |-- _c6: string (nullable = true)\n",
      " |-- _c7: string (nullable = true)\n",
      " |-- _c8: string (nullable = true)\n",
      " |-- _c9: string (nullable = true)\n",
      "\n",
      "Columns overview\n"
     ]
    },
    {
     "data": {
      "text/html": [
       "<div>\n",
       "<style scoped>\n",
       "    .dataframe tbody tr th:only-of-type {\n",
       "        vertical-align: middle;\n",
       "    }\n",
       "\n",
       "    .dataframe tbody tr th {\n",
       "        vertical-align: top;\n",
       "    }\n",
       "\n",
       "    .dataframe thead th {\n",
       "        text-align: right;\n",
       "    }\n",
       "</style>\n",
       "<table border=\"1\" class=\"dataframe\">\n",
       "  <thead>\n",
       "    <tr style=\"text-align: right;\">\n",
       "      <th></th>\n",
       "      <th>Column Name</th>\n",
       "      <th>Data type</th>\n",
       "    </tr>\n",
       "  </thead>\n",
       "  <tbody>\n",
       "    <tr>\n",
       "      <th>0</th>\n",
       "      <td>_c0</td>\n",
       "      <td>string</td>\n",
       "    </tr>\n",
       "    <tr>\n",
       "      <th>1</th>\n",
       "      <td>_c1</td>\n",
       "      <td>string</td>\n",
       "    </tr>\n",
       "    <tr>\n",
       "      <th>2</th>\n",
       "      <td>_c2</td>\n",
       "      <td>string</td>\n",
       "    </tr>\n",
       "    <tr>\n",
       "      <th>3</th>\n",
       "      <td>_c3</td>\n",
       "      <td>string</td>\n",
       "    </tr>\n",
       "    <tr>\n",
       "      <th>4</th>\n",
       "      <td>_c4</td>\n",
       "      <td>string</td>\n",
       "    </tr>\n",
       "    <tr>\n",
       "      <th>5</th>\n",
       "      <td>_c5</td>\n",
       "      <td>string</td>\n",
       "    </tr>\n",
       "    <tr>\n",
       "      <th>6</th>\n",
       "      <td>_c6</td>\n",
       "      <td>string</td>\n",
       "    </tr>\n",
       "    <tr>\n",
       "      <th>7</th>\n",
       "      <td>_c7</td>\n",
       "      <td>string</td>\n",
       "    </tr>\n",
       "    <tr>\n",
       "      <th>8</th>\n",
       "      <td>_c8</td>\n",
       "      <td>string</td>\n",
       "    </tr>\n",
       "    <tr>\n",
       "      <th>9</th>\n",
       "      <td>_c9</td>\n",
       "      <td>string</td>\n",
       "    </tr>\n",
       "  </tbody>\n",
       "</table>\n",
       "</div>"
      ],
      "text/plain": [
       "  Column Name Data type\n",
       "0         _c0    string\n",
       "1         _c1    string\n",
       "2         _c2    string\n",
       "3         _c3    string\n",
       "4         _c4    string\n",
       "5         _c5    string\n",
       "6         _c6    string\n",
       "7         _c7    string\n",
       "8         _c8    string\n",
       "9         _c9    string"
      ]
     },
     "execution_count": 3,
     "metadata": {},
     "output_type": "execute_result"
    }
   ],
   "source": [
    "print('Data overview')\n",
    "df.printSchema()\n",
    "print('Columns overview')\n",
    "pd.DataFrame(df.dtypes, columns = ['Column Name','Data type'])"
   ]
  },
  {
   "cell_type": "code",
   "execution_count": 4,
   "id": "87dae5d1-1c8f-4237-a67a-a2ba256153a9",
   "metadata": {},
   "outputs": [
    {
     "name": "stdout",
     "output_type": "stream",
     "text": [
      "root\n",
      " |-- type: string (nullable = true)\n",
      " |-- id: string (nullable = true)\n",
      " |-- subreddit_id: string (nullable = true)\n",
      " |-- subreddit_name: string (nullable = true)\n",
      " |-- subreddit_nsfw: boolean (nullable = true)\n",
      " |-- created_utc: string (nullable = true)\n",
      " |-- permalink: string (nullable = true)\n",
      " |-- body: string (nullable = true)\n",
      " |-- sentiment: float (nullable = true)\n",
      " |-- score: integer (nullable = true)\n",
      " |-- word_count: integer (nullable = false)\n",
      " |-- virus_count: integer (nullable = false)\n",
      " |-- covid_count: integer (nullable = false)\n",
      " |-- mood: boolean (nullable = false)\n",
      "\n",
      "+-------+-------+------------+--------------------+--------------+-----------+--------------------+--------------------+---------+-----+----------+-----------+-----------+-----+\n",
      "|   type|     id|subreddit_id|      subreddit_name|subreddit_nsfw|created_utc|           permalink|                body|sentiment|score|word_count|virus_count|covid_count| mood|\n",
      "+-------+-------+------------+--------------------+--------------+-----------+--------------------+--------------------+---------+-----+----------+-----------+-----------+-----+\n",
      "|comment|hi1vsag|       2riyy|                nova|         false| 1635206399|https://old.reddi...|When you schedule...|      0.0|    2|        25|          0|          0| true|\n",
      "|comment|hi1vs0l|       2qsf3|             ontario|         false| 1635206395|https://old.reddi...|Compare BC to Ont...|      0.0|   -2|        19|          0|          0| true|\n",
      "|comment|hi1vrnr|      2iokxd|  lockdownskepticism|         false| 1635206391|https://old.reddi...|And think about h...|  -0.8413|   29|        95|          0|          0|false|\n",
      "|comment|hi1vrou|       384mz|         antivaxxers|         false| 1635206391|https://old.reddi...|I don’t know anyo...|  -0.9191|    1|        36|          0|          3|false|\n",
      "|comment|hi1vrg2|       2qh4r|          conspiracy|         false| 1635206388|https://old.reddi...|BS. Not a fear ca...|  -0.9625|    1|        54|          0|          1|false|\n",
      "|comment|hi1vre5|       2s5sb|      torontoraptors|         false| 1635206387|https://old.reddi...|Idk if they have ...|  -0.0516|    3|        42|          0|          0|false|\n",
      "|comment|hi1vqy4|       2tasy|personalfinanceca...|         false| 1635206381|https://old.reddi...|I got some crappy...|   0.6604|    2|        56|          0|          1| true|\n",
      "|comment|hi1vqh5|       2qhpn|             economy|         false| 1635206375|https://old.reddi...|Pretty sure the e...|   0.6705|    1|        47|          0|          0| true|\n",
      "|comment|hi1vq9t|       hq6n1|         redscarepod|         false| 1635206372|https://old.reddi...|Lol it’s kinda fu...|   0.4417|    6|        26|          0|          1| true|\n",
      "|comment|hi1vq39|       2qiog|               korea|         false| 1635206370|https://old.reddi...|It's racist in th...|  -0.8481|    9|        52|          0|          1|false|\n",
      "|comment|hi1vput|       2qxon|             alberta|         false| 1635206367|https://old.reddi...|When it comes to ...|   0.4215|    0|        32|          0|          0| true|\n",
      "|comment|hi1vpm3|       2u06v|       beyondthebump|         false| 1635206364|https://old.reddi...|Any other kids I ...|   0.6331|    1|        23|          0|          1| true|\n",
      "|comment|hi1voeb|       2zmfe|           dankmemes|         false| 1635206348|https://old.reddi...|\"We KNOW it happe...|  -0.0084|    4|        30|          0|          1|false|\n",
      "|comment|hi1vocw|       2ss5b|      subredditdrama|         false| 1635206347|https://old.reddi...|\"As an Australian...|  -0.6956|    6|        58|          0|          1|false|\n",
      "|comment|hi1vnrr|      4snhgc|   simplychristina87|         false| 1635206340|https://old.reddi...|She does not care...|   0.6232|    1|        32|          0|          0| true|\n",
      "|comment|hi1vnly|       2s581|         bakersfield|         false| 1635206338|https://old.reddi...|Are they in denia...|      0.0|    1|         8|          0|          0| true|\n",
      "|comment|hi1vmwh|       2rj35|                ak47|         false| 1635206329|https://old.reddi...|5K rounds doesn't...|   0.6705|    3|        45|          0|          0| true|\n",
      "|comment|hi1vmuy|       2u06v|       beyondthebump|         false| 1635206328|https://old.reddi...|Mine allowed unti...|  -0.5994|    1|        22|          0|          1|false|\n",
      "|comment|hi1vksd|       2yrq6|      publicfreakout|         false| 1635206299|https://old.reddi...|The dude with the...|  -0.5994|    2|        29|          0|          1|false|\n",
      "|comment|hi1vk7n|       2scjv|               delta|         false| 1635206291|https://old.reddi...|This happened to ...|  -0.1779|    2|        57|          0|          0|false|\n",
      "+-------+-------+------------+--------------------+--------------+-----------+--------------------+--------------------+---------+-----+----------+-----------+-----------+-----+\n",
      "only showing top 20 rows\n",
      "\n"
     ]
    }
   ],
   "source": [
    "new_column_names = {\n",
    "    \"_c0\": \"type\",\n",
    "    \"_c1\": \"id\",\n",
    "    \"_c2\": \"subreddit_id\",\n",
    "    \"_c3\": \"subreddit_name\",\n",
    "    \"_c4\": \"subreddit_nsfw\",\n",
    "    \"_c5\": \"created_utc\",\n",
    "    \"_c6\": \"permalink\",\n",
    "    \"_c7\": \"body\",\n",
    "    \"_c8\": \"sentiment\",\n",
    "    \"_c9\": \"score\",\n",
    "}\n",
    "\n",
    "for c, new_c in new_column_names.items():\n",
    "    df = df.withColumnRenamed(c, new_c)\n",
    " \n",
    "\n",
    "df = df.withColumn(\"subreddit_nsfw\", col(\"subreddit_nsfw\").cast(BooleanType()))\n",
    "df = df.withColumn(\"sentiment\", col(\"sentiment\").cast(FloatType()))\n",
    "df = df.withColumn(\"score\", col(\"score\").cast(IntegerType()))\n",
    "\n",
    "df = df.withColumn(\"word_count\", size(split(col(\"body\"), \" \")).cast(\"int\"))\n",
    "df = df.withColumn(\"virus_count\", size(split(col(\"body\"), \"virus\")) - 1)\n",
    "df = df.withColumn(\"covid_count\", size(split(col(\"body\"), \"covid\")) - 1)\n",
    "df = df.withColumn(\"mood\", F.when(df[\"sentiment\"] >= 0, True).otherwise(False))\n",
    "\n",
    "df = df.dropna()\n",
    "df.printSchema()\n",
    "df.show()"
   ]
  },
  {
   "cell_type": "code",
   "execution_count": 5,
   "id": "ab5c2e30-5d58-499b-bb83-3794a858bb65",
   "metadata": {},
   "outputs": [],
   "source": [
    "num_col = [\"score\", \"word_count\"]\n",
    "for col_name in num_col*2:\n",
    "    quantiles = df.approxQuantile(col_name, [0.25, 0.75], 0.05)  # 25-й и 75-й процентили\n",
    "    IQR = quantiles[1] - quantiles[0]\n",
    "    lower_bound = quantiles[0] - 1.5 * IQR\n",
    "    upper_bound = quantiles[1] + 1.5 * IQR\n",
    "    df = df.filter((col(col_name) >= lower_bound) & (col(col_name) <= upper_bound))"
   ]
  },
  {
   "cell_type": "code",
   "execution_count": 6,
   "id": "34855acd-e1ba-4e10-8ba3-b6bf2a93b2be",
   "metadata": {},
   "outputs": [
    {
     "data": {
      "text/plain": [
       "<Axes: >"
      ]
     },
     "execution_count": 6,
     "metadata": {},
     "output_type": "execute_result"
    },
    {
     "data": {
      "text/plain": [
       "Text(0.5, 1.0, 'Boxplots of Numeric Columns')"
      ]
     },
     "execution_count": 6,
     "metadata": {},
     "output_type": "execute_result"
    },
    {
     "data": {
      "image/png": "[encoded data removed]",
      "text/plain": [
       "<Figure size 640x480 with 1 Axes>"
      ]
     },
     "metadata": {},
     "output_type": "display_data"
    }
   ],
   "source": [
    "df_pandas = df.select(num_col).toPandas()\n",
    "df_pandas.boxplot(column=num_col)\n",
    "plt.title('Boxplots of Numeric Columns')\n",
    "plt.show()"
   ]
  },
  {
   "cell_type": "code",
   "execution_count": 7,
   "id": "33b46680-6215-4e06-922e-cd0d9b16f451",
   "metadata": {},
   "outputs": [
    {
     "name": "stdout",
     "output_type": "stream",
     "text": [
      "Median score: 1.0\n",
      "\n",
      "Median word_count: 27.0\n",
      "\n",
      "+-------+------------------+------------------+\n",
      "|summary|             score|        word_count|\n",
      "+-------+------------------+------------------+\n",
      "|  count|           5543311|           5543311|\n",
      "|   mean|1.9616886009101782|32.102521579611896|\n",
      "| stddev|1.6147285433574878|19.803289526590607|\n",
      "|    min|                -2|                 1|\n",
      "|    max|                 6|                84|\n",
      "+-------+------------------+------------------+\n",
      "\n"
     ]
    }
   ],
   "source": [
    "for col_name in num_col:\n",
    "    quantiles = df.approxQuantile(col_name, [0.5], 0.05)\n",
    "    median_score = quantiles[0]\n",
    "    print(f'Median {col_name}: {median_score}\\n')\n",
    "\n",
    "df.select(\"score\", \"word_count\").describe().show()"
   ]
  },
  {
   "cell_type": "markdown",
   "id": "fabdd496-ebf9-4c30-93d6-fbe6463c105a",
   "metadata": {},
   "source": [
    "**count** - Количество строк\\\n",
    "**mean** - Среднее значение\\\n",
    "**stddev** - Стандартное отклонение\\\n",
    "**min** - Минимальное значение\\\n",
    "**max** - Максимальное значение"
   ]
  },
  {
   "cell_type": "code",
   "execution_count": 8,
   "id": "f3ee4607-2d17-46e8-a181-f279d5e382b1",
   "metadata": {},
   "outputs": [
    {
     "data": {
      "text/plain": [
       "{'whiskers': [<matplotlib.lines.Line2D at 0x7f39e613be50>,\n",
       "  <matplotlib.lines.Line2D at 0x7f39ebbc0a90>],\n",
       " 'caps': [<matplotlib.lines.Line2D at 0x7f39ebbc1550>,\n",
       "  <matplotlib.lines.Line2D at 0x7f39ebbc20d0>],\n",
       " 'boxes': [<matplotlib.lines.Line2D at 0x7f39e613b1d0>],\n",
       " 'medians': [<matplotlib.lines.Line2D at 0x7f39ebbc2cd0>],\n",
       " 'fliers': [<matplotlib.lines.Line2D at 0x7f39ebbc3850>],\n",
       " 'means': []}"
      ]
     },
     "execution_count": 8,
     "metadata": {},
     "output_type": "execute_result"
    },
    {
     "data": {
      "text/plain": [
       "Text(0.5, 1.0, 'Boxplot of score')"
      ]
     },
     "execution_count": 8,
     "metadata": {},
     "output_type": "execute_result"
    },
    {
     "data": {
      "text/plain": [
       "Text(0.5, 0, 'score')"
      ]
     },
     "execution_count": 8,
     "metadata": {},
     "output_type": "execute_result"
    },
    {
     "data": {
      "text/plain": [
       "Text(0, 0.5, 'Value')"
      ]
     },
     "execution_count": 8,
     "metadata": {},
     "output_type": "execute_result"
    },
    {
     "data": {
      "image/png": "[encoded data removed]",
      "text/plain": [
       "<Figure size 640x480 with 1 Axes>"
      ]
     },
     "metadata": {},
     "output_type": "display_data"
    },
    {
     "data": {
      "text/plain": [
       "{'whiskers': [<matplotlib.lines.Line2D at 0x7f39d9bd7610>,\n",
       "  <matplotlib.lines.Line2D at 0x7f39d8aec150>],\n",
       " 'caps': [<matplotlib.lines.Line2D at 0x7f39d8aece10>,\n",
       "  <matplotlib.lines.Line2D at 0x7f39d8aed6d0>],\n",
       " 'boxes': [<matplotlib.lines.Line2D at 0x7f39d9bd6ad0>],\n",
       " 'medians': [<matplotlib.lines.Line2D at 0x7f39d8aee150>],\n",
       " 'fliers': [<matplotlib.lines.Line2D at 0x7f39d8aeec50>],\n",
       " 'means': []}"
      ]
     },
     "execution_count": 8,
     "metadata": {},
     "output_type": "execute_result"
    },
    {
     "data": {
      "text/plain": [
       "Text(0.5, 1.0, 'Boxplot of word_count')"
      ]
     },
     "execution_count": 8,
     "metadata": {},
     "output_type": "execute_result"
    },
    {
     "data": {
      "text/plain": [
       "Text(0.5, 0, 'word_count')"
      ]
     },
     "execution_count": 8,
     "metadata": {},
     "output_type": "execute_result"
    },
    {
     "data": {
      "text/plain": [
       "Text(0, 0.5, 'Value')"
      ]
     },
     "execution_count": 8,
     "metadata": {},
     "output_type": "execute_result"
    },
    {
     "data": {
      "image/png": "[encoded data removed]",
      "text/plain": [
       "<Figure size 640x480 with 1 Axes>"
      ]
     },
     "metadata": {},
     "output_type": "display_data"
    }
   ],
   "source": [
    "for col_name in num_col:\n",
    "    data = df.select(col_name).rdd.flatMap(lambda x: x).collect()\n",
    "    plt.boxplot(data)\n",
    "    plt.title(f'Boxplot of {col_name}')\n",
    "    plt.xlabel(col_name)\n",
    "    plt.ylabel('Value')\n",
    "    plt.show()"
   ]
  },
  {
   "cell_type": "code",
   "execution_count": 9,
   "id": "a95d5036-ba65-4063-9baa-c46abdeadb44",
   "metadata": {},
   "outputs": [
    {
     "data": {
      "text/plain": [
       "<Axes: >"
      ]
     },
     "execution_count": 9,
     "metadata": {},
     "output_type": "execute_result"
    },
    {
     "data": {
      "text/plain": [
       "([<matplotlib.patches.Wedge at 0x7f39f8152310>,\n",
       "  <matplotlib.patches.Wedge at 0x7f39cd9cc850>],\n",
       " [Text(1.099610922223856, 0.029254396695218815, 'True'),\n",
       "  Text(-1.0996109224806367, -0.029254387043374484, 'False')],\n",
       " [Text(0.5997877757584668, 0.015956943651937533, '0.8%'),\n",
       "  Text(-0.599787775898529, -0.015956938387295172, '99.2%')])"
      ]
     },
     "execution_count": 9,
     "metadata": {},
     "output_type": "execute_result"
    },
    {
     "data": {
      "text/plain": [
       "Text(0.5, 1.0, 'NSFW Percentage')"
      ]
     },
     "execution_count": 9,
     "metadata": {},
     "output_type": "execute_result"
    },
    {
     "data": {
      "text/plain": [
       "<Axes: >"
      ]
     },
     "execution_count": 9,
     "metadata": {},
     "output_type": "execute_result"
    },
    {
     "data": {
      "text/plain": [
       "([<matplotlib.patches.Wedge at 0x7f39d582d310>,\n",
       "  <matplotlib.patches.Wedge at 0x7f39c5ca8d50>],\n",
       " [Text(-0.35943513484708367, 1.0396183837531245, 'True'),\n",
       "  Text(0.3594351348470838, -1.0396183837531245, 'False')],\n",
       " [Text(-0.19605552809840926, 0.5670645729562497, '60.6%'),\n",
       "  Text(0.19605552809840932, -0.5670645729562497, '39.4%')])"
      ]
     },
     "execution_count": 9,
     "metadata": {},
     "output_type": "execute_result"
    },
    {
     "data": {
      "text/plain": [
       "Text(0.5, 1.0, 'Mood Percentage')"
      ]
     },
     "execution_count": 9,
     "metadata": {},
     "output_type": "execute_result"
    },
    {
     "data": {
      "image/png": "[encoded data removed]",
      "text/plain": [
       "<Figure size 640x480 with 2 Axes>"
      ]
     },
     "metadata": {},
     "output_type": "display_data"
    }
   ],
   "source": [
    "count_values_nsfw = df.groupBy(\"subreddit_nsfw\").count().collect()\n",
    "count_values_mood = df.groupBy(\"mood\").count().collect()\n",
    "\n",
    "values_nsfw = [x['count'] for x in count_values_nsfw]\n",
    "categories_nsfw = [str(x['subreddit_nsfw']) for x in count_values_nsfw]\n",
    "\n",
    "values_mood = [x['count'] for x in count_values_mood]\n",
    "categories_mood = [str(x['mood']) for x in count_values_mood]\n",
    "\n",
    "plt.subplot(121)\n",
    "plt.pie(values_nsfw, labels=categories_nsfw, autopct='%1.1f%%', colors=['lightcoral', 'lightskyblue'])\n",
    "plt.title('NSFW Percentage')\n",
    "\n",
    "plt.subplot(122)\n",
    "plt.pie(values_mood, labels=categories_mood, autopct='%1.1f%%', colors=['lightgreen', 'lightpink'])\n",
    "plt.title('Mood Percentage')\n",
    "\n",
    "plt.show()"
   ]
  },
  {
   "cell_type": "code",
   "execution_count": 13,
   "id": "9c1ba1e0-1582-4e01-9853-d3ef11873837",
   "metadata": {},
   "outputs": [
    {
     "name": "stdout",
     "output_type": "stream",
     "text": [
      "Количество постов с NSFW: 46932\n",
      "\n",
      "Количество постов с положительным или нейтральным настроением: 3359006\n",
      "\n"
     ]
    }
   ],
   "source": [
    "count_nsfw_posts = df.filter(df[\"subreddit_nsfw\"] == True).count()\n",
    "print(f'Количество постов с NSFW: {count_nsfw_posts}\\n')\n",
    "count_mood_posts = df.filter(df[\"mood\"] == True).count()\n",
    "print(f'Количество постов с положительным или нейтральным настроением: {count_mood_posts}\\n')"
   ]
  },
  {
   "cell_type": "code",
   "execution_count": 11,
   "id": "49332ea3-fda8-43b9-bc20-780bdb7c6710",
   "metadata": {},
   "outputs": [
    {
     "name": "stdout",
     "output_type": "stream",
     "text": [
      "+--------------------+--------------------+--------------------+--------------------+--------------------+\n",
      "|               score|           sentiment|          word_count|         virus_count|         covid_count|\n",
      "+--------------------+--------------------+--------------------+--------------------+--------------------+\n",
      "|                 1.0|0.011157851932508638|0.029599152241561275|-0.00597646107447...|-0.02551334765691...|\n",
      "|0.011157851932508638|                 1.0| 0.04656137014592415|-0.02786188446148...|-0.01561650193858...|\n",
      "|0.029599152241561275| 0.04656137014592415|                 1.0| 0.08417894734600344| 0.03202809058384242|\n",
      "|-0.00597646107447...|-0.02786188446148...| 0.08417894734600344|                 1.0| 0.01093154719763804|\n",
      "|-0.02551334765691...|-0.01561650193858...| 0.03202809058384242| 0.01093154719763804|                 1.0|\n",
      "+--------------------+--------------------+--------------------+--------------------+--------------------+\n",
      "\n"
     ]
    }
   ],
   "source": [
    "from pyspark.ml.feature import VectorAssembler\n",
    "from pyspark.ml.stat import Correlation\n",
    "selected_data = df.select(\"score\", \"sentiment\", \"word_count\", \"virus_count\", \"covid_count\")\n",
    "\n",
    "assembler = VectorAssembler(inputCols=[\"score\", \"sentiment\", \"word_count\", \"virus_count\", \"covid_count\"], outputCol=\"features\")\n",
    "assembled_data = assembler.transform(selected_data)\n",
    "correlation_matrix = Correlation.corr(assembled_data, \"features\").head()\n",
    "corr_matrix = correlation_matrix[0].toArray()\n",
    "correlation_df = spark.createDataFrame(corr_matrix, [\"score\", \"sentiment\", \"word_count\", \"virus_count\", \"covid_count\"])\n",
    "correlation_df.show()"
   ]
  },
  {
   "cell_type": "code",
   "execution_count": 12,
   "id": "e065855f-4620-45ed-ad53-9a7e5be6065c",
   "metadata": {},
   "outputs": [
    {
     "data": {
      "text/plain": [
       "5543311"
      ]
     },
     "execution_count": 12,
     "metadata": {},
     "output_type": "execute_result"
    }
   ],
   "source": [
    "df.count()"
   ]
  },
  {
   "cell_type": "code",
   "execution_count": null,
   "id": "9c46f72c-8530-4f27-b70f-cbff6b3dfad4",
   "metadata": {},
   "outputs": [],
   "source": [
    "df.write.mode('overwrite').parquet(\"data/df.parquet\")"
   ]
  }
 ],
 "metadata": {
  "kernelspec": {
   "display_name": "Python 3 (ipykernel)",
   "language": "python",
   "name": "python3"
  },
  "language_info": {
   "codemirror_mode": {
    "name": "ipython",
    "version": 3
   },
   "file_extension": ".py",
   "mimetype": "text/x-python",
   "name": "python",
   "nbconvert_exporter": "python",
   "pygments_lexer": "ipython3",
   "version": "3.11.6"
  }
 },
 "nbformat": 4,
 "nbformat_minor": 5
}
