{
 "cells": [
  {
   "cell_type": "markdown",
   "id": "065502ee-9fbf-41e2-b73d-7875ef5afb80",
   "metadata": {},
   "source": [
    "### 1. Задача регрессии: LinearRegression\n",
    "### 2. Задача бинарной классификации: RandomForest"
   ]
  },
  {
   "cell_type": "code",
   "execution_count": 1,
   "id": "a3f08db9-fee3-4d54-a54f-dcbc1fdec9e5",
   "metadata": {},
   "outputs": [
    {
     "name": "stdout",
     "output_type": "stream",
     "text": [
      "+------------------+----------+--------------+---------------+--------------+----------+-----------+-----------+----------+-------------+-------+--------------+----------+\n",
      "|           tweetid|    userid|follower_count|following_count|tweet_language|is_retweet|quote_count|reply_count|like_count|retweet_count|is_like|is_en_language|is_popular|\n",
      "+------------------+----------+--------------+---------------+--------------+----------+-----------+-----------+----------+-------------+-------+--------------+----------+\n",
      "|685133352202993664| 992417071|         11555|          10348|            en|     false|          0|          0|         0|            0|  false|          true|     false|\n",
      "|611013594306605057|2553888938|         17709|          16095|            in|     false|          0|          1|         0|            0|  false|         false|      true|\n",
      "|718813673154719744|1261250516|         19393|          14704|            in|     false|          0|          1|         0|            0|  false|         false|      true|\n",
      "|664022230704128000|1071134947|         12756|          12638|            in|     false|          0|          0|         0|            0|  false|         false|     false|\n",
      "|827740044672720896|1104766315|          8651|           5848|            en|     false|          0|          0|         0|            0|  false|          true|     false|\n",
      "|786934135377960960|1936199119|         24655|          23684|            en|     false|          0|          0|         0|            0|  false|          true|      true|\n",
      "|734340864202313728|1049730152|          9873|           7494|            in|     false|          0|          0|         0|            0|  false|         false|     false|\n",
      "|780299819084500992| 924969829|         23420|          13520|            in|     false|          0|          1|         0|            1|  false|         false|      true|\n",
      "|585412831933112321|1431779646|         12326|          10031|            in|     false|          0|          1|         0|            0|  false|         false|     false|\n",
      "|649241988357709825|2500729285|         24438|          22187|            in|     false|          0|          1|         0|            0|  false|         false|      true|\n",
      "+------------------+----------+--------------+---------------+--------------+----------+-----------+-----------+----------+-------------+-------+--------------+----------+\n",
      "only showing top 10 rows\n",
      "\n"
     ]
    }
   ],
   "source": [
    "# The Jupyter Notebook and dataset were downloaded from https://www.kaggle.com/code/tylerx/machine-learning-with-spark\n",
    "\n",
    "# This Python 3 environment comes with many helpful analytics libraries installed\n",
    "# It is defined by the kaggle/python docker image: https://github.com/kaggle/docker-python\n",
    "# For example, here's several helpful packages to load in \n",
    "\n",
    "import numpy as np # linear algebra\n",
    "import pandas as pd # data processing, CSV file I/O (e.g. pd.read_csv)\n",
    "\n",
    "# Input data files are available in the \"../input/\" directory.\n",
    "# For example, running this (by clicking run or pressing Shift+Enter) will list the files in the input directory\n",
    "\n",
    "import os\n",
    "\n",
    "# Any results you write to the current directory are saved as output.\n",
    "\n",
    "from pyspark.sql.types import *\n",
    "from pyspark.sql.functions import *\n",
    "from pyspark.sql import SparkSession\n",
    "\n",
    "from pyspark.ml import Pipeline\n",
    "from pyspark.ml.feature import VectorAssembler, StringIndexer, VectorIndexer, MinMaxScaler,  StandardScaler\n",
    "from pyspark.ml.classification import LogisticRegression\n",
    "from pyspark.ml.tuning import ParamGridBuilder, CrossValidator\n",
    "from pyspark.ml.evaluation import BinaryClassificationEvaluator\n",
    "from pyspark.ml.regression import LinearRegression\n",
    "from pyspark.ml.evaluation import RegressionEvaluator\n",
    "from pyspark.ml.regression import RandomForestRegressor\n",
    "from pyspark.ml.classification import RandomForestClassifier\n",
    "from pyspark.ml.evaluation import MulticlassClassificationEvaluator\n",
    "\n",
    "\n",
    "\n",
    "spark = SparkSession.builder.master(\"local[*]\").getOrCreate()\n",
    "df_full = spark.read.parquet(\"data/df.parquet\")\n",
    "df_full.show(10)"
   ]
  },
  {
   "cell_type": "markdown",
   "id": "182d0b98-a13e-4b8b-8bed-18f4b16668f7",
   "metadata": {},
   "source": [
    "### Задача регрессии"
   ]
  },
  {
   "cell_type": "code",
   "execution_count": 2,
   "id": "7de691ef-4216-4307-9cc6-d9cae6c4daad",
   "metadata": {},
   "outputs": [
    {
     "name": "stdout",
     "output_type": "stream",
     "text": [
      "+---------------+--------------+----------+-------------+\n",
      "|following_count|follower_count|like_count|retweet_count|\n",
      "+---------------+--------------+----------+-------------+\n",
      "|          10348|         11555|         0|            0|\n",
      "|          16095|         17709|         0|            0|\n",
      "|          14704|         19393|         0|            0|\n",
      "|          12638|         12756|         0|            0|\n",
      "|           5848|          8651|         0|            0|\n",
      "|          23684|         24655|         0|            0|\n",
      "|           7494|          9873|         0|            0|\n",
      "|          13520|         23420|         0|            1|\n",
      "|          10031|         12326|         0|            0|\n",
      "|          22187|         24438|         0|            0|\n",
      "+---------------+--------------+----------+-------------+\n",
      "only showing top 10 rows\n",
      "\n",
      "Training Rows: 2673613  Testing Rows: 668308\n"
     ]
    }
   ],
   "source": [
    "df = df_full.select(\"following_count\", \"follower_count\", \"like_count\", \"retweet_count\")\n",
    "df.show(10)\n",
    "# Распределение на обучение\n",
    "splits = df.randomSplit([0.8, 0.2])\n",
    "train = splits[0]\n",
    "test = splits[1]\n",
    "train_rows = train.count()\n",
    "test_rows = test.count()\n",
    "print(\"Training Rows:\", train_rows, \" Testing Rows:\", test_rows)"
   ]
  },
  {
   "cell_type": "code",
   "execution_count": 4,
   "id": "5ee53acd-5585-4953-a867-a872782d5196",
   "metadata": {},
   "outputs": [],
   "source": [
    "numVect = VectorAssembler(inputCols = [\"like_count\", \"following_count\", \"retweet_count\"], outputCol=\"unscaled_features\")\n",
    "scaler = MinMaxScaler(inputCol=\"unscaled_features\", outputCol=\"features\")\n",
    "lr = LinearRegression(featuresCol=\"features\", labelCol=\"follower_count\")\n",
    "pipeline = Pipeline(stages=[numVect, scaler, lr])\n",
    "model = pipeline.fit(train)\n",
    "predictions = model.transform(test)"
   ]
  },
  {
   "cell_type": "code",
   "execution_count": 5,
   "id": "d69638d0-e738-44cd-96a5-393dc09d3cb7",
   "metadata": {},
   "outputs": [
    {
     "name": "stdout",
     "output_type": "stream",
     "text": [
      "RMSE: 3554.286\n",
      "MSE: 12632950.178\n",
      "MAE: 2754.649\n",
      "r2: 0.544\n"
     ]
    }
   ],
   "source": [
    "rmse_evaluator = RegressionEvaluator(labelCol=\"follower_count\", predictionCol=\"prediction\", metricName=\"rmse\")\n",
    "mae_evaluator = RegressionEvaluator(labelCol=\"follower_count\", predictionCol=\"prediction\", metricName=\"mae\")\n",
    "mse_evaluator = RegressionEvaluator(labelCol=\"follower_count\", predictionCol=\"prediction\", metricName=\"mse\")\n",
    "r2_evaluator = RegressionEvaluator(labelCol=\"follower_count\", predictionCol=\"prediction\", metricName=\"r2\")\n",
    "\n",
    "rmse = rmse_evaluator.evaluate(predictions)\n",
    "mse = mse_evaluator.evaluate(predictions)\n",
    "mae = mae_evaluator.evaluate(predictions)\n",
    "r2 = r2_evaluator.evaluate(predictions)\n",
    "\n",
    "print(f\"RMSE: {rmse:0.3f}\" )\n",
    "print(f\"MSE: {mse:0.3f}\" )\n",
    "print(f\"MAE: {mae:0.3f}\" )\n",
    "print(f\"r2: {r2:0.3f}\" )"
   ]
  },
  {
   "cell_type": "markdown",
   "id": "f6163803-430e-45a0-8e1a-671400712acd",
   "metadata": {},
   "source": [
    "#### MSE: Средний квадрат разности предсказанного и фактического значения  \n",
    "#### RMSE: sqrt из MSE  \n",
    "#### MAE: Среднее абсолютное значение разностей между предсказанным и фактическим значением\n",
    "#### R2:  Коэффициент детерминации "
   ]
  },
  {
   "cell_type": "code",
   "execution_count": 6,
   "id": "e03d1f9e-8fed-4ea9-97b2-63b2978e5fe9",
   "metadata": {},
   "outputs": [
    {
     "name": "stdout",
     "output_type": "stream",
     "text": [
      "+--------------------+------------------+--------------+\n",
      "|            features|        prediction|follower_count|\n",
      "+--------------------+------------------+--------------+\n",
      "|[0.0,0.0013686498...|6954.0462045600325|          5841|\n",
      "|[0.0,0.0016504307...| 6959.181327872822|         21472|\n",
      "|[0.0,0.0037034055...| 6996.594369151717|          5758|\n",
      "|[0.0,0.0037436599...| 6997.327958196402|         15404|\n",
      "|[0.0,0.0037436599...| 6997.327958196402|         15404|\n",
      "|[0.0,0.0037436599...| 6997.327958196402|         15404|\n",
      "|[0.0,0.0037436599...| 6997.327958196402|         15404|\n",
      "|[0.0,0.0037436599...| 6997.327958196402|         15404|\n",
      "|[0.0,0.0037436599...| 6997.327958196402|         15404|\n",
      "|[0.0,0.0037436599...| 6997.327958196402|         15404|\n",
      "|[0.0,0.0037436599...| 6997.327958196402|         15404|\n",
      "|[0.0,0.0037436599...| 6997.327958196402|         15404|\n",
      "|[0.0,0.0037436599...| 6997.327958196402|         15404|\n",
      "|[0.0,0.0037436599...| 6997.327958196402|         15404|\n",
      "|[0.0,0.0037436599...| 6997.327958196402|         15404|\n",
      "|[0.0,0.0037436599...| 6997.327958196402|         15404|\n",
      "|[0.0,0.0037436599...| 6997.327958196402|         15404|\n",
      "|[0.0,0.0037436599...| 6997.327958196402|         15404|\n",
      "|[0.0,0.0037436599...| 6997.327958196402|         15404|\n",
      "|[0.0,0.0037436599...| 6997.327958196402|         15404|\n",
      "+--------------------+------------------+--------------+\n",
      "only showing top 20 rows\n",
      "\n"
     ]
    }
   ],
   "source": [
    "predicted = predictions.select(\"features\", \"prediction\", \"follower_count\")\n",
    "predicted.show(20)"
   ]
  },
  {
   "cell_type": "code",
   "execution_count": 7,
   "id": "ece89c67-c251-4fc3-94ec-e0177c11e562",
   "metadata": {},
   "outputs": [],
   "source": [
    "paramGrid = (ParamGridBuilder()\n",
    "             .addGrid(lr.maxIter, [100, 200, 300])\n",
    "             .addGrid(lr.regParam, [0.1, 0.01])\n",
    "             .build())\n"
   ]
  },
  {
   "cell_type": "code",
   "execution_count": 8,
   "id": "368b9abb-8cdb-4a20-a41a-a1c91fc0f016",
   "metadata": {},
   "outputs": [
    {
     "name": "stdout",
     "output_type": "stream",
     "text": [
      "RMSE: 3554.286\n",
      "MSE: 12632950.599\n",
      "MAE: 2754.669\n",
      "r2: 0.544\n"
     ]
    }
   ],
   "source": [
    "cv = CrossValidator(estimator=pipeline, \\\n",
    "                    estimatorParamMaps=paramGrid, \\\n",
    "                    evaluator=RegressionEvaluator(\n",
    "                                predictionCol=\"prediction\", \\\n",
    "                                labelCol=\"follower_count\", \\\n",
    "                                metricName=\"rmse\"), \\\n",
    "                    numFolds=2)\n",
    "\n",
    "cv_model = cv.fit(train)\n",
    "best_model = cv_model.bestModel\n",
    "best_predictions = best_model.transform(test)\n",
    "rmse_evaluator = RegressionEvaluator(labelCol=\"follower_count\", predictionCol=\"prediction\", metricName=\"rmse\")\n",
    "mae_evaluator = RegressionEvaluator(labelCol=\"follower_count\", predictionCol=\"prediction\", metricName=\"mae\")\n",
    "mse_evaluator = RegressionEvaluator(labelCol=\"follower_count\", predictionCol=\"prediction\", metricName=\"mse\")\n",
    "r2_evaluator = RegressionEvaluator(labelCol=\"follower_count\", predictionCol=\"prediction\", metricName=\"r2\")\n",
    "best_rmse = rmse_evaluator.evaluate(best_predictions)\n",
    "best_mse = mse_evaluator.evaluate(best_predictions)\n",
    "best_mae = mae_evaluator.evaluate(best_predictions)\n",
    "best_r2 = r2_evaluator.evaluate(best_predictions)\n",
    "print(f\"RMSE: {best_rmse:0.3f}\" )\n",
    "print(f\"MSE: {best_mse:0.3f}\" )\n",
    "print(f\"MAE: {best_mae:0.3f}\" )\n",
    "print(f\"r2: {best_r2:0.3f}\" )"
   ]
  },
  {
   "cell_type": "markdown",
   "id": "47cd8a31-e582-4b93-a7a8-8952ce950e57",
   "metadata": {},
   "source": [
    "### Задача классификации"
   ]
  },
  {
   "cell_type": "code",
   "execution_count": 9,
   "id": "59e9a694-e4eb-47ac-9c97-99b1644ea373",
   "metadata": {},
   "outputs": [
    {
     "name": "stdout",
     "output_type": "stream",
     "text": [
      "+---------------+--------------+----------+-------------+-------+\n",
      "|following_count|follower_count|like_count|retweet_count|popular|\n",
      "+---------------+--------------+----------+-------------+-------+\n",
      "|          10348|         11555|         0|            0|      0|\n",
      "|          16095|         17709|         0|            0|      1|\n",
      "|          14704|         19393|         0|            0|      1|\n",
      "|          12638|         12756|         0|            0|      0|\n",
      "|           5848|          8651|         0|            0|      0|\n",
      "|          23684|         24655|         0|            0|      1|\n",
      "|           7494|          9873|         0|            0|      0|\n",
      "|          13520|         23420|         0|            1|      1|\n",
      "|          10031|         12326|         0|            0|      0|\n",
      "|          22187|         24438|         0|            0|      1|\n",
      "+---------------+--------------+----------+-------------+-------+\n",
      "only showing top 10 rows\n",
      "\n",
      "root\n",
      " |-- following_count: integer (nullable = true)\n",
      " |-- follower_count: integer (nullable = true)\n",
      " |-- like_count: integer (nullable = true)\n",
      " |-- retweet_count: integer (nullable = true)\n",
      " |-- popular: integer (nullable = false)\n",
      "\n",
      "True: 1524874\n",
      "False: 1817047\n",
      "True: 45.629%\n",
      "False: 54.371%\n"
     ]
    }
   ],
   "source": [
    "df = df_full.select(\"following_count\", \"follower_count\", \"like_count\", \"retweet_count\", \"is_popular\")\n",
    "df = df.withColumn(\"popular\", when(col(\"is_popular\") == True, 1).otherwise(0))\n",
    "df = df.drop('is_popular')\n",
    "\n",
    "df.show(10)\n",
    "df.printSchema()\n",
    "total_count = df.count()\n",
    "true_count = df.filter(df[\"popular\"] == 1).count()\n",
    "false_count = df.filter(df[\"popular\"] == 0).count()\n",
    "print(\"True:\", true_count)\n",
    "print(\"False:\", false_count)\n",
    "true_percentage = (true_count / total_count) * 100\n",
    "false_percentage = (false_count / total_count) * 100\n",
    "print(f\"True: {true_percentage:0.3f}%\")\n",
    "print(f\"False: {false_percentage:0.3f}%\")"
   ]
  },
  {
   "cell_type": "code",
   "execution_count": 10,
   "id": "b371be36-88e7-4367-bce1-4c5915cc87e4",
   "metadata": {},
   "outputs": [
    {
     "name": "stdout",
     "output_type": "stream",
     "text": [
      "Training Rows: 2674395  Testing Rows: 667526\n"
     ]
    }
   ],
   "source": [
    "splits = df.randomSplit([0.8, 0.2])\n",
    "train = splits[0]\n",
    "test = splits[1]\n",
    "train_rows = train.count()\n",
    "test_rows = test.count()\n",
    "print(\"Training Rows:\", train_rows, \" Testing Rows:\", test_rows)"
   ]
  },
  {
   "cell_type": "code",
   "execution_count": 11,
   "id": "62a8aa0f-7d8f-49fb-8727-89246ffaa912",
   "metadata": {},
   "outputs": [
    {
     "name": "stdout",
     "output_type": "stream",
     "text": [
      "+--------------------+----------+-------+\n",
      "|            features|prediction|popular|\n",
      "+--------------------+----------+-------+\n",
      "|[1.0,38.0,1.0,784...|       0.0|      0|\n",
      "|[0.0,42.0,0.0,214...|       1.0|      1|\n",
      "|[0.0,42.0,0.0,214...|       1.0|      1|\n",
      "|[0.0,77.0,0.0,149...|       0.0|      0|\n",
      "|[0.0,77.0,0.0,149...|       0.0|      0|\n",
      "|[0.0,94.0,0.0,154...|       0.0|      1|\n",
      "|[0.0,94.0,0.0,154...|       0.0|      1|\n",
      "|[0.0,94.0,0.0,154...|       0.0|      1|\n",
      "|[0.0,94.0,0.0,154...|       0.0|      1|\n",
      "|[0.0,94.0,0.0,154...|       0.0|      1|\n",
      "|[0.0,94.0,0.0,154...|       0.0|      1|\n",
      "|[0.0,94.0,0.0,154...|       0.0|      1|\n",
      "|[0.0,94.0,0.0,154...|       0.0|      1|\n",
      "|[0.0,94.0,0.0,154...|       0.0|      1|\n",
      "|[0.0,94.0,0.0,154...|       0.0|      1|\n",
      "|[0.0,94.0,0.0,154...|       0.0|      1|\n",
      "|[0.0,94.0,0.0,154...|       0.0|      1|\n",
      "|[0.0,94.0,0.0,154...|       0.0|      1|\n",
      "|[0.0,94.0,0.0,154...|       0.0|      1|\n",
      "|[1.0,94.0,0.0,154...|       0.0|      1|\n",
      "+--------------------+----------+-------+\n",
      "only showing top 20 rows\n",
      "\n"
     ]
    }
   ],
   "source": [
    "numVect = VectorAssembler(inputCols = [\"like_count\", \"following_count\", \"retweet_count\", \"follower_count\"], outputCol=\"features\")\n",
    "rf = RandomForestClassifier(labelCol=\"popular\", featuresCol=\"features\")\n",
    "pipeline = Pipeline(stages=[numVect, rf])\n",
    "model = pipeline.fit(train)\n",
    "predictions = model.transform(test)\n",
    "predicted = predictions.select(\"features\", \"prediction\", \"popular\")\n",
    "predicted.show(20)\n",
    "evaluator = MulticlassClassificationEvaluator(labelCol=\"popular\", predictionCol=\"prediction\", metricName=\"accuracy\")"
   ]
  },
  {
   "cell_type": "code",
   "execution_count": 12,
   "id": "4dc5aea2-0399-4da4-9dd2-226dfed48dbf",
   "metadata": {},
   "outputs": [
    {
     "name": "stdout",
     "output_type": "stream",
     "text": [
      "+---------+------------------+\n",
      "|   metric|             value|\n",
      "+---------+------------------+\n",
      "|       TP|          304713.0|\n",
      "|       FP|              19.0|\n",
      "|       TN|          362445.0|\n",
      "|       FN|             349.0|\n",
      "|Precision|0.9999376501319192|\n",
      "|   Recall|0.9988559702617829|\n",
      "|       F1|0.9993965175124714|\n",
      "+---------+------------------+\n",
      "\n"
     ]
    }
   ],
   "source": [
    "tp = float(predicted.filter(\"prediction == 1.0 AND popular == 1\").count())\n",
    "fp = float(predicted.filter(\"prediction == 1.0 AND popular == 0\").count())\n",
    "tn = float(predicted.filter(\"prediction == 0.0 AND popular == 0\").count())\n",
    "fn = float(predicted.filter(\"prediction == 0.0 AND popular == 1\").count())\n",
    "pr = tp / (tp + fp)\n",
    "re = tp / (tp + fn)\n",
    "metrics = spark.createDataFrame([\n",
    " (\"TP\", tp),\n",
    " (\"FP\", fp),\n",
    " (\"TN\", tn),\n",
    " (\"FN\", fn),\n",
    " (\"Precision\", pr),\n",
    " (\"Recall\", re),\n",
    " (\"F1\", 2*pr*re/(re+pr))],[\"metric\", \"value\"])\n",
    "metrics.show()\n"
   ]
  },
  {
   "cell_type": "markdown",
   "id": "ad7f2bdd-241e-491e-be4a-55e159036244",
   "metadata": {},
   "source": [
    "#### Precision: Точность\n",
    "#### Recall:  Полнота\n",
    "#### F1:  Среднее между точностью и полнотой"
   ]
  },
  {
   "cell_type": "code",
   "execution_count": 13,
   "id": "6c44eb56-ff63-449c-9d78-44d7c1120c71",
   "metadata": {},
   "outputs": [
    {
     "name": "stdout",
     "output_type": "stream",
     "text": [
      "AUR =  0.9999984879627133\n"
     ]
    }
   ],
   "source": [
    "evaluator = BinaryClassificationEvaluator(labelCol=\"popular\", rawPredictionCol=\"rawPrediction\", metricName=\"areaUnderROC\")\n",
    "aur = evaluator.evaluate(predictions)\n",
    "print (\"AUR = \", aur)\n"
   ]
  },
  {
   "cell_type": "code",
   "execution_count": 14,
   "id": "227d9146-f36e-4f6f-a27f-70fcbdbcdd6b",
   "metadata": {},
   "outputs": [
    {
     "name": "stdout",
     "output_type": "stream",
     "text": [
      "+---------------+--------------+----------+-------------+-------+\n",
      "|following_count|follower_count|like_count|retweet_count|retweet|\n",
      "+---------------+--------------+----------+-------------+-------+\n",
      "|          10348|         11555|         0|            0|      0|\n",
      "|          16095|         17709|         0|            0|      0|\n",
      "|          14704|         19393|         0|            0|      0|\n",
      "|          12638|         12756|         0|            0|      0|\n",
      "|           5848|          8651|         0|            0|      0|\n",
      "|          23684|         24655|         0|            0|      0|\n",
      "|           7494|          9873|         0|            0|      0|\n",
      "|          13520|         23420|         0|            1|      0|\n",
      "|          10031|         12326|         0|            0|      0|\n",
      "|          22187|         24438|         0|            0|      0|\n",
      "+---------------+--------------+----------+-------------+-------+\n",
      "only showing top 10 rows\n",
      "\n",
      "root\n",
      " |-- following_count: integer (nullable = true)\n",
      " |-- follower_count: integer (nullable = true)\n",
      " |-- like_count: integer (nullable = true)\n",
      " |-- retweet_count: integer (nullable = true)\n",
      " |-- retweet: integer (nullable = false)\n",
      "\n",
      "True: 382340\n",
      "False: 2959581\n",
      "True: 11.441%\n",
      "False: 88.559%\n",
      "Training Rows: 2674256  Testing Rows: 667665\n",
      "+--------------------+----------+-------+\n",
      "|            features|prediction|retweet|\n",
      "+--------------------+----------+-------+\n",
      "|[58.0,36.0,16.0,2...|       0.0|      0|\n",
      "|[59.0,36.0,4.0,22...|       0.0|      0|\n",
      "|[0.0,38.0,0.0,784...|       1.0|      0|\n",
      "|[0.0,77.0,0.0,149...|       0.0|      0|\n",
      "|[0.0,77.0,0.0,149...|       0.0|      0|\n",
      "|[0.0,77.0,1.0,149...|       0.0|      0|\n",
      "|[0.0,94.0,0.0,154...|       0.0|      0|\n",
      "|[0.0,94.0,0.0,154...|       0.0|      0|\n",
      "|[0.0,94.0,0.0,154...|       0.0|      0|\n",
      "|[0.0,94.0,0.0,154...|       0.0|      0|\n",
      "|[0.0,94.0,0.0,154...|       0.0|      0|\n",
      "|[0.0,94.0,0.0,154...|       0.0|      0|\n",
      "|[0.0,94.0,0.0,154...|       0.0|      0|\n",
      "|[0.0,94.0,0.0,154...|       0.0|      0|\n",
      "|[0.0,94.0,0.0,154...|       0.0|      0|\n",
      "|[0.0,94.0,0.0,154...|       0.0|      0|\n",
      "|[0.0,94.0,0.0,154...|       0.0|      0|\n",
      "|[0.0,94.0,0.0,154...|       0.0|      0|\n",
      "|[0.0,94.0,0.0,154...|       0.0|      0|\n",
      "|[0.0,94.0,0.0,154...|       0.0|      0|\n",
      "+--------------------+----------+-------+\n",
      "only showing top 20 rows\n",
      "\n",
      "+---------+-------------------+\n",
      "|   metric|              value|\n",
      "+---------+-------------------+\n",
      "|       TP|            10819.0|\n",
      "|       FP|             1685.0|\n",
      "|       TN|           589693.0|\n",
      "|       FN|            65468.0|\n",
      "|Precision| 0.8652431222008957|\n",
      "|   Recall| 0.1418197071584936|\n",
      "|       F1|0.24369587007692223|\n",
      "+---------+-------------------+\n",
      "\n",
      "AUR =  0.6594403713819157\n"
     ]
    }
   ],
   "source": [
    "df = df_full.select(\"following_count\", \"follower_count\", \"like_count\", \"retweet_count\", \"is_retweet\")\n",
    "df = df.withColumn(\"retweet\", when(col(\"is_retweet\") == True, 1).otherwise(0))\n",
    "df = df.drop('is_retweet')\n",
    "\n",
    "df.show(10)\n",
    "df.printSchema()\n",
    "total_count = df.count()\n",
    "true_count = df.filter(df[\"retweet\"] == 1).count()\n",
    "false_count = df.filter(df[\"retweet\"] == 0).count()\n",
    "print(\"True:\", true_count)\n",
    "print(\"False:\", false_count)\n",
    "true_percentage = (true_count / total_count) * 100\n",
    "false_percentage = (false_count / total_count) * 100\n",
    "print(f\"True: {true_percentage:0.3f}%\")\n",
    "print(f\"False: {false_percentage:0.3f}%\")\n",
    "splits = df.randomSplit([0.8, 0.2])\n",
    "train = splits[0]\n",
    "test = splits[1]\n",
    "train_rows = train.count()\n",
    "test_rows = test.count()\n",
    "print(\"Training Rows:\", train_rows, \" Testing Rows:\", test_rows)\n",
    "numVect = VectorAssembler(inputCols = [\"like_count\", \"following_count\", \"retweet_count\", \"follower_count\"], outputCol=\"features\")\n",
    "rf = RandomForestClassifier(labelCol=\"retweet\", featuresCol=\"features\")\n",
    "pipeline = Pipeline(stages=[numVect, rf])\n",
    "model = pipeline.fit(train)\n",
    "predictions = model.transform(test)\n",
    "predicted = predictions.select(\"features\", \"prediction\", \"retweet\")\n",
    "predicted.show(20)\n",
    "evaluator = MulticlassClassificationEvaluator(labelCol=\"retweet\", predictionCol=\"prediction\", metricName=\"accuracy\")\n",
    "tp = float(predicted.filter(\"prediction == 1.0 AND retweet == 1\").count())\n",
    "fp = float(predicted.filter(\"prediction == 1.0 AND retweet == 0\").count())\n",
    "tn = float(predicted.filter(\"prediction == 0.0 AND retweet == 0\").count())\n",
    "fn = float(predicted.filter(\"prediction == 0.0 AND retweet == 1\").count())\n",
    "pr = tp / (tp + fp)\n",
    "re = tp / (tp + fn)\n",
    "metrics = spark.createDataFrame([\n",
    " (\"TP\", tp),\n",
    " (\"FP\", fp),\n",
    " (\"TN\", tn),\n",
    " (\"FN\", fn),\n",
    " (\"Precision\", pr),\n",
    " (\"Recall\", re),\n",
    " (\"F1\", 2*pr*re/(re+pr))],[\"metric\", \"value\"])\n",
    "metrics.show()\n",
    "evaluator = BinaryClassificationEvaluator(labelCol=\"retweet\", rawPredictionCol=\"rawPrediction\", metricName=\"areaUnderROC\")\n",
    "aur = evaluator.evaluate(predictions)\n",
    "print (\"AUR = \", aur)\n",
    "\n"
   ]
  }
 ],
 "metadata": {
  "kernelspec": {
   "display_name": "Python 3 (ipykernel)",
   "language": "python",
   "name": "python3"
  },
  "language_info": {
   "codemirror_mode": {
    "name": "ipython",
    "version": 3
   },
   "file_extension": ".py",
   "mimetype": "text/x-python",
   "name": "python",
   "nbconvert_exporter": "python",
   "pygments_lexer": "ipython3",
   "version": "3.11.6"
  }
 },
 "nbformat": 4,
 "nbformat_minor": 5
}
